{
 "cells": [
  {
   "cell_type": "code",
   "execution_count": 1,
   "metadata": {},
   "outputs": [],
   "source": [
    "import pandas as pd\n",
    "from pythonmodules.config import Config\n",
    "from sqlalchemy import create_engine\n",
    "from pythonmodules.namenlijst import Namenlijst\n",
    "from pythonmodules.mediahaven import MediaHaven\n",
    "import matplotlib.pyplot as plt\n",
    "import seaborn as sns\n",
    "from tqdm import tqdm"
   ]
  },
  {
   "cell_type": "code",
   "execution_count": 2,
   "metadata": {},
   "outputs": [],
   "source": [
    "conf = Config()\n",
    "con = create_engine(conf['db']['connection_url'])\n",
    "nml = Namenlijst()\n",
    "mh = MediaHaven()\n",
    "mapping = dict(zip(range(0, 4), ['Undefined', 'Matches', 'No match', 'Uncertain']))"
   ]
  },
  {
   "cell_type": "code",
   "execution_count": 3,
   "metadata": {},
   "outputs": [],
   "source": [
    "df = pd.read_sql(sql='SELECT nmlid, pid, status, entity, kind, extras FROM attestation_link WHERE status != 0', con=con)\n",
    "df.set_index('nmlid', inplace=True)"
   ]
  },
  {
   "cell_type": "code",
   "execution_count": 4,
   "metadata": {},
   "outputs": [],
   "source": [
    "nml_data = [next(nml.findPerson(document={\"_id\": nmlid})) for nmlid in df.index]"
   ]
  },
  {
   "cell_type": "code",
   "execution_count": 5,
   "metadata": {},
   "outputs": [],
   "source": [
    "df = pd.DataFrame(nml_data).set_index('_id').join(df.replace({'status': mapping}))"
   ]
  },
  {
   "cell_type": "code",
   "execution_count": 6,
   "metadata": {},
   "outputs": [],
   "source": [
    "# more efficient way, but gives 414 Request-URI Too Large\n",
    "# df_mh = mh.search('+(%s)' % ' '.join('externalId:' + pid for pid in df['pid']), 0, 1)\n",
    "data_mh = (next(mh.search('+(externalId:%s)' % pid, 0, 1)) for pid in df['pid'])"
   ]
  },
  {
   "cell_type": "code",
   "execution_count": 7,
   "metadata": {},
   "outputs": [
    {
     "name": "stderr",
     "output_type": "stream",
     "text": [
      "217it [01:11,  3.05it/s]\n"
     ]
    }
   ],
   "source": [
    "texts = []\n",
    "df_mh = []\n",
    "for item in tqdm(data_mh, total=len(df)):\n",
    "    texts.append({\n",
    "        'pid': item['externalId'],\n",
    "        'text': item['description']\n",
    "    })\n",
    "    data = {\n",
    "        'pid': item['externalId'],\n",
    "        'attributes': {\n",
    "            attr['attribute']: attr['value'] for attr in item['mdProperties'] if attr['attribute'] != 'premis'\n",
    "        },\n",
    "        'title': item['title'],\n",
    "        'previewImagePath': item['previewImagePath'],\n",
    "    }\n",
    "    for k, v in data['attributes'].items():\n",
    "        data[k] = v\n",
    "    del data['attributes']\n",
    "    del data['status']\n",
    "    df_mh.append(data)\n",
    "\n",
    "df_mh = pd.DataFrame(df_mh).set_index('pid')\n",
    "del data_mh\n"
   ]
  },
  {
   "cell_type": "code",
   "execution_count": 8,
   "metadata": {},
   "outputs": [
    {
     "data": {
      "text/plain": [
       "Index(['alternative_familynames', 'alternative_surnames', 'born_day',\n",
       "       'born_month', 'born_year', 'cwxrm_remembered', 'description',\n",
       "       'died_age', 'died_day', 'died_month', 'died_year', 'familyname',\n",
       "       'gender', 'in_namelist', 'initials', 'memorials', 'nationality',\n",
       "       'project_memberships', 'relations', 'sort_born_date', 'sort_died_date',\n",
       "       'surname', 'victim_type', 'victim_type_details', 'war_casualty', 'pid',\n",
       "       'status', 'entity', 'kind', 'extras', 'CP', 'CP_id', 'CreationDate',\n",
       "       'PID', 'RightsOwner', 'Sub_CP', 'abraham_ID', 'batch_id', 'batch_name',\n",
       "       'carrier_barcode', 'carrier_date', 'carrier_unity',\n",
       "       'collection_box_barcode', 'cover_and_bindings', 'created_by',\n",
       "       'created_on', 'digitization_format', 'dimensions', 'edition',\n",
       "       'language', 'number', 'number_of_pages', 'original_carrier_id',\n",
       "       'original_location', 'paper', 'preservation_problems',\n",
       "       'previewImagePath', 'shipment_id', 'sp_id', 'sp_name',\n",
       "       'text_quality_for_ocr', 'text_type', 'title', 'type_viaa', 'updated_by',\n",
       "       'updated_on'],\n",
       "      dtype='object')"
      ]
     },
     "execution_count": 8,
     "metadata": {},
     "output_type": "execute_result"
    }
   ],
   "source": [
    "df = df.join(df_mh, on='pid', rsuffix='_mh')\n",
    "df.columns"
   ]
  },
  {
   "cell_type": "code",
   "execution_count": 9,
   "metadata": {},
   "outputs": [],
   "source": [
    "#items = ['victim_type_details', 'victim_type', 'pid', ]\n",
    "#fig, axs = plt.subplots(nrows=len(items))\n",
    "#for idx, t in enumerate(items):\n",
    "#    sns.countplot(y='status', data=df, hue=t, ax=axs[idx])"
   ]
  },
  {
   "cell_type": "code",
   "execution_count": 10,
   "metadata": {},
   "outputs": [
    {
     "data": {
      "text/plain": [
       "victim_type  status   \n",
       "CIVILIAN     Matches        5\n",
       "             No match      14\n",
       "             Uncertain      2\n",
       "MILITARY     Matches       19\n",
       "             No match     177\n",
       "             Uncertain     30\n",
       "Name: pid, dtype: int64"
      ]
     },
     "execution_count": 10,
     "metadata": {},
     "output_type": "execute_result"
    }
   ],
   "source": [
    "counts = df.groupby(['victim_type', 'status'])['pid'].count()\n",
    "counts"
   ]
  },
  {
   "cell_type": "code",
   "execution_count": 11,
   "metadata": {},
   "outputs": [
    {
     "data": {
      "text/plain": [
       "entity             kind           \n",
       "Albert Thomas      Artikel            10\n",
       "                   Correspondentie     1\n",
       "Charles Bernard    Artikel             4\n",
       "                   namenlijst          4\n",
       "Emile Vandervelde  Artikel             4\n",
       "                   rechtszaken         4\n",
       "George Lloyd       Artikel            17\n",
       "Louis Nicolas      Artikel             1\n",
       "                   Lijst               3\n",
       "                   lijst soldaten      3\n",
       "Name: pid, dtype: int64"
      ]
     },
     "execution_count": 11,
     "metadata": {},
     "output_type": "execute_result"
    }
   ],
   "source": [
    "counts = df['entity'].value_counts()\n",
    "freq_entities = counts.head(5).index.tolist()\n",
    "# ['status'].value_counts()\n",
    "# df['entity'] in counts['entity']\n",
    "counts = df[df['entity'].isin(freq_entities)].groupby(['entity', 'kind'])['pid'].count()\n",
    "counts"
   ]
  },
  {
   "cell_type": "code",
   "execution_count": 12,
   "metadata": {},
   "outputs": [
    {
     "data": {
      "text/html": [
       "<div>\n",
       "<style scoped>\n",
       "    .dataframe tbody tr th:only-of-type {\n",
       "        vertical-align: middle;\n",
       "    }\n",
       "\n",
       "    .dataframe tbody tr th {\n",
       "        vertical-align: top;\n",
       "    }\n",
       "\n",
       "    .dataframe thead th {\n",
       "        text-align: right;\n",
       "    }\n",
       "</style>\n",
       "<table border=\"1\" class=\"dataframe\">\n",
       "  <thead>\n",
       "    <tr style=\"text-align: right;\">\n",
       "      <th></th>\n",
       "      <th>alternative_familynames</th>\n",
       "      <th>alternative_surnames</th>\n",
       "      <th>born_day</th>\n",
       "      <th>born_month</th>\n",
       "      <th>born_year</th>\n",
       "      <th>cwxrm_remembered</th>\n",
       "      <th>description</th>\n",
       "      <th>died_age</th>\n",
       "      <th>died_day</th>\n",
       "      <th>died_month</th>\n",
       "      <th>...</th>\n",
       "      <th>previewImagePath</th>\n",
       "      <th>shipment_id</th>\n",
       "      <th>sp_id</th>\n",
       "      <th>sp_name</th>\n",
       "      <th>text_quality_for_ocr</th>\n",
       "      <th>text_type</th>\n",
       "      <th>title</th>\n",
       "      <th>type_viaa</th>\n",
       "      <th>updated_by</th>\n",
       "      <th>updated_on</th>\n",
       "    </tr>\n",
       "    <tr>\n",
       "      <th>status</th>\n",
       "      <th></th>\n",
       "      <th></th>\n",
       "      <th></th>\n",
       "      <th></th>\n",
       "      <th></th>\n",
       "      <th></th>\n",
       "      <th></th>\n",
       "      <th></th>\n",
       "      <th></th>\n",
       "      <th></th>\n",
       "      <th></th>\n",
       "      <th></th>\n",
       "      <th></th>\n",
       "      <th></th>\n",
       "      <th></th>\n",
       "      <th></th>\n",
       "      <th></th>\n",
       "      <th></th>\n",
       "      <th></th>\n",
       "      <th></th>\n",
       "      <th></th>\n",
       "    </tr>\n",
       "  </thead>\n",
       "  <tbody>\n",
       "    <tr>\n",
       "      <th>Matches</th>\n",
       "      <td>24</td>\n",
       "      <td>24</td>\n",
       "      <td>12</td>\n",
       "      <td>12</td>\n",
       "      <td>12</td>\n",
       "      <td>24</td>\n",
       "      <td>24</td>\n",
       "      <td>24</td>\n",
       "      <td>22</td>\n",
       "      <td>22</td>\n",
       "      <td>...</td>\n",
       "      <td>24</td>\n",
       "      <td>24</td>\n",
       "      <td>24</td>\n",
       "      <td>24</td>\n",
       "      <td>24</td>\n",
       "      <td>16</td>\n",
       "      <td>24</td>\n",
       "      <td>24</td>\n",
       "      <td>24</td>\n",
       "      <td>24</td>\n",
       "    </tr>\n",
       "    <tr>\n",
       "      <th>No match</th>\n",
       "      <td>191</td>\n",
       "      <td>191</td>\n",
       "      <td>104</td>\n",
       "      <td>105</td>\n",
       "      <td>109</td>\n",
       "      <td>191</td>\n",
       "      <td>191</td>\n",
       "      <td>191</td>\n",
       "      <td>187</td>\n",
       "      <td>187</td>\n",
       "      <td>...</td>\n",
       "      <td>191</td>\n",
       "      <td>191</td>\n",
       "      <td>191</td>\n",
       "      <td>191</td>\n",
       "      <td>191</td>\n",
       "      <td>151</td>\n",
       "      <td>191</td>\n",
       "      <td>191</td>\n",
       "      <td>191</td>\n",
       "      <td>191</td>\n",
       "    </tr>\n",
       "    <tr>\n",
       "      <th>Uncertain</th>\n",
       "      <td>32</td>\n",
       "      <td>32</td>\n",
       "      <td>16</td>\n",
       "      <td>16</td>\n",
       "      <td>16</td>\n",
       "      <td>32</td>\n",
       "      <td>32</td>\n",
       "      <td>32</td>\n",
       "      <td>30</td>\n",
       "      <td>30</td>\n",
       "      <td>...</td>\n",
       "      <td>32</td>\n",
       "      <td>32</td>\n",
       "      <td>32</td>\n",
       "      <td>32</td>\n",
       "      <td>32</td>\n",
       "      <td>31</td>\n",
       "      <td>32</td>\n",
       "      <td>32</td>\n",
       "      <td>32</td>\n",
       "      <td>32</td>\n",
       "    </tr>\n",
       "  </tbody>\n",
       "</table>\n",
       "<p>3 rows × 65 columns</p>\n",
       "</div>"
      ],
      "text/plain": [
       "           alternative_familynames  alternative_surnames  born_day  \\\n",
       "status                                                               \n",
       "Matches                         24                    24        12   \n",
       "No match                       191                   191       104   \n",
       "Uncertain                       32                    32        16   \n",
       "\n",
       "           born_month  born_year  cwxrm_remembered  description  died_age  \\\n",
       "status                                                                      \n",
       "Matches            12         12                24           24        24   \n",
       "No match          105        109               191          191       191   \n",
       "Uncertain          16         16                32           32        32   \n",
       "\n",
       "           died_day  died_month     ...      previewImagePath  shipment_id  \\\n",
       "status                              ...                                      \n",
       "Matches          22          22     ...                    24           24   \n",
       "No match        187         187     ...                   191          191   \n",
       "Uncertain        30          30     ...                    32           32   \n",
       "\n",
       "           sp_id  sp_name  text_quality_for_ocr  text_type  title  type_viaa  \\\n",
       "status                                                                         \n",
       "Matches       24       24                    24         16     24         24   \n",
       "No match     191      191                   191        151    191        191   \n",
       "Uncertain     32       32                    32         31     32         32   \n",
       "\n",
       "           updated_by  updated_on  \n",
       "status                             \n",
       "Matches            24          24  \n",
       "No match          191         191  \n",
       "Uncertain          32          32  \n",
       "\n",
       "[3 rows x 65 columns]"
      ]
     },
     "execution_count": 12,
     "metadata": {},
     "output_type": "execute_result"
    }
   ],
   "source": [
    "df.groupby(['status']).count()"
   ]
  },
  {
   "cell_type": "code",
   "execution_count": null,
   "metadata": {},
   "outputs": [],
   "source": []
  },
  {
   "cell_type": "code",
   "execution_count": null,
   "metadata": {},
   "outputs": [],
   "source": []
  },
  {
   "cell_type": "code",
   "execution_count": null,
   "metadata": {},
   "outputs": [],
   "source": []
  },
  {
   "cell_type": "code",
   "execution_count": null,
   "metadata": {},
   "outputs": [],
   "source": []
  },
  {
   "cell_type": "code",
   "execution_count": null,
   "metadata": {},
   "outputs": [],
   "source": []
  }
 ],
 "metadata": {
  "kernelspec": {
   "display_name": "Python 3",
   "language": "python",
   "name": "python3"
  },
  "language_info": {
   "codemirror_mode": {
    "name": "ipython",
    "version": 3
   },
   "file_extension": ".py",
   "mimetype": "text/x-python",
   "name": "python",
   "nbconvert_exporter": "python",
   "pygments_lexer": "ipython3",
   "version": "3.6.5"
  }
 },
 "nbformat": 4,
 "nbformat_minor": 2
}
